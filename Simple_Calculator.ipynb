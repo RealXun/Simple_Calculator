{
  "metadata": {
    "kernelspec": {
      "name": "python",
      "display_name": "Python (Pyodide)",
      "language": "python"
    },
    "language_info": {
      "codemirror_mode": {
        "name": "python",
        "version": 3
      },
      "file_extension": ".py",
      "mimetype": "text/x-python",
      "name": "python",
      "nbconvert_exporter": "python",
      "pygments_lexer": "ipython3",
      "version": "3.8"
    }
  },
  "nbformat_minor": 5,
  "nbformat": 4,
  "cells": [
    {
      "cell_type": "markdown",
      "source": "# Simple Calculator\nCreate a simple calculator without defining functions",
      "metadata": {},
      "id": "55d702f1-995d-4d08-8c4a-7448684d85ac"
    },
    {
      "cell_type": "markdown",
      "source": "# Create a simple calculator without defining functions - part 1\nCreate a simple calculator that accepts a first number, an operation, and a second number.",
      "metadata": {},
      "id": "4fe47522-1c5b-410c-befe-2aea35b101cf"
    },
    {
      "cell_type": "markdown",
      "source": "## Here is an example output, where a user has typed 4, *, and 5 into the input boxes:\nSimple calculator! First number? 4 operation? * Second number? 5 product of 4 * 5 equals 20\n\n> The program must accept a symbol, such as the asterisk (*) symbol, to perform a multiplication and produce a product. Be sure to implement logic for these results:\n\nSum (+) Subtraction (-) Multiplication (*) Quotient (/) Exponent (//) Module (%)\n\n> If the user does not type a numeric value, display this message: Please input a number.\n\n> If the user types an operation that is not recognized, display this message: Operation not recognized.\n\nWhether you're struggling and need to take a look at the solution or finish the exercise successfully, continue on to see a solution to this challenge.",
      "metadata": {},
      "id": "c7d15d93-8c2b-46f2-822f-1748d53de11c"
    },
    {
      "cell_type": "markdown",
      "source": "```PSEUDOCODE\nWe declare two input values\n\nto (input)\nb (input)\nDeclare the type of operation to perform\n\noperation (input)\nWe create a variable with a list of operators\n\noperators = [\"+\", \"-\", \"*\", \"/\", \"//\", \"%\" ]\nWe declare the evaluation condition IF the operator is not found in the list of Operators `` print (Operation not recognized)\n\n\nELSE\n\nIF the operation is \"+\"\nELSE RESULT a+b\n\nIF THE operation is \"-\"\nELSE RESULT a-b\n\n\n... like this for the rest of the operators\n\nprint(result)\n```",
      "metadata": {},
      "id": "c568be3d-96ea-41c2-8baf-91a298377eb7"
    },
    {
      "cell_type": "code",
      "source": "while True:\n    # take input from the user and check if the input is an integer.\n    n1 = input(\"Introduce the First number: \")\n    try:\n        n1 = int(n1)\n        print(n1)\n        print(type(n1))\n    except ValueError:\n        try:\n            n1 = float(n1)\n            print(n1)\n            print(type(n1))\n        except ValueError:\n            print('The provided value is not a number. Try again.')\n            continue\n    while True:\n        operation = input('Please enter what operation you would like to do, / is divide, * is multiply, + is plus and - is minus: ')\n        if operation in {'+', '-', '/', '*', '//', '%'}:\n            break\n        print(f'Not a valid answer: {operation}, try again')\n    while True:\n        n2 = input(\"Introduce the Second number: \")\n        try:\n            n2 = int(n2)\n            print(n2)\n            print(type(n1))\n            break\n        except ValueError:\n            try:\n                n2 = float(n2)\n                print(n2)\n                print(type(n1))\n                break\n            except ValueError:\n                print('The provided value is not a number. Try again.')\n                continue\n    if operation in {'+'}:\n        print (\"The sum of\", n1, \"plus\", n2, \"is;\",n1+n2)\n    if operation in {'-'}:\n        print (\"The sum of\", n1, \"plus\", n2, \"is;\",n1-n2)\n    if operation in {'/'}:\n        print (\"The sum of\", n1, \"plus\", n2, \"is;\",n1+n2)\n    if operation in {'*'}:\n        print (\"The sum of\", n1, \"plus\", n2, \"is;\",n1-n2)\n    if operation in {'//'}:\n        print (\"The sum of\", n1, \"plus\", n2, \"is;\",n1//n2)\n    while True:\n        yes_no = (\"Y\",\"N\",\"y\",\"n\")\n        question = input(\"Do you wanna conitnuio?: y/n: \")\n        if question in {'y', 'Y', 'n', 'N',}:\n            if question == \"n\" or question == \"N\":\n                raise SystemExit\n            elif question == \"Y\" or question == \"y\":\n                break\n        print(f'Not a valid answer: {question}, try again')",
      "metadata": {},
      "execution_count": null,
      "outputs": [],
      "id": "610a4158-a9cc-4739-ba36-b336fef85b0c"
    }
  ]
}